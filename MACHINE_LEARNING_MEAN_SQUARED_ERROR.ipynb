{
  "nbformat": 4,
  "nbformat_minor": 0,
  "metadata": {
    "colab": {
      "provenance": []
    },
    "kernelspec": {
      "name": "python3",
      "display_name": "Python 3"
    },
    "language_info": {
      "name": "python"
    }
  },
  "cells": [
    {
      "cell_type": "code",
      "execution_count": 2,
      "metadata": {
        "id": "1oHLHIm4fYYg"
      },
      "outputs": [],
      "source": [
        "## Experimentando diferentes combinações de variaveis de tráfego, visando minimizar o erro de previsão (Mean squared error)."
      ]
    },
    {
      "cell_type": "code",
      "source": [
        "##modelo de Regressão\n",
        "\n",
        "import pandas as pd\n",
        "from sklearn.linear_model import LinearRegression\n",
        "from sklearn.metrics import mean_squared_error\n",
        "\n",
        "## Carga de dados\n",
        "df = pd.read_csv(\"https://raw.githubusercontent.com/diogenesjusto/FIAP/master/SHIFT/Data/pib.csv\")\n",
        "\n",
        "## Separação de treino e teste\n",
        "treino = df.iloc[0:126]\n",
        "teste = df.iloc[126:138]\n",
        "\n",
        "## Regressão\n",
        "Y_treino = treino.iloc[:,[2]]\n",
        "X = ['PRL', 'RJL']\n",
        "X_treino = treino.loc[:,X]\n",
        "mod = LinearRegression()\n",
        "mod.fit(X_treino, Y_treino)\n",
        "\n",
        "## Análise de R2\n",
        "print('R2')\n",
        "print(mod.score(X_treino, Y_treino))\n",
        "\n",
        "## Coeficientes Angulares da reta de regressão\n",
        "print('Coef. Angular')\n",
        "print(mod.coef_)\n",
        "\n",
        "## Coef. de intercepto\n",
        "print('Coef. Intercepto')\n",
        "print(mod.intercept_)\n",
        "\n",
        "## Erro de previsão\n",
        "X_teste = teste.loc[:,X]\n",
        "p = mod.predict(X_teste)\n",
        "mean_squared_error(teste.PIB, p)"
      ],
      "metadata": {
        "colab": {
          "base_uri": "https://localhost:8080/"
        },
        "id": "rJjbvBe4fkU7",
        "outputId": "205d3f9e-27c9-406e-e523-2fd9128c2d3f"
      },
      "execution_count": 20,
      "outputs": [
        {
          "output_type": "stream",
          "name": "stdout",
          "text": [
            "R2\n",
            "0.8346367066127797\n",
            "Coef. Angular\n",
            "[[-0.21707938  1.39121271]]\n",
            "Coef. Intercepto\n",
            "[-12.69060254]\n"
          ]
        },
        {
          "output_type": "execute_result",
          "data": {
            "text/plain": [
              "39.21124237550084"
            ]
          },
          "metadata": {},
          "execution_count": 20
        }
      ]
    },
    {
      "cell_type": "code",
      "source": [
        "## Verificando as variaveis com mais relação a variavel \"PIB\"\n",
        "\n",
        "## tratando os dados para aplicar a correlação\n",
        "\n",
        "df['ANO_MES'] = pd.to_datetime(df['ANO_MES'], format='%b/%y', errors='coerce')\n",
        "df['Ano'] = df['ANO_MES'].dt.year\n",
        "df['Mes'] = df['ANO_MES'].dt.month\n",
        "df = df.drop(columns=['ANO_MES'])\n",
        "\n",
        "print(df.dtypes)\n",
        "\n",
        "corr = df.corr()\n",
        "print(corr['PIB'].sort_values(ascending=False))"
      ],
      "metadata": {
        "colab": {
          "base_uri": "https://localhost:8080/"
        },
        "id": "ybbjWwcCfkXq",
        "outputId": "3fa99e8a-235c-48f8-9d47-03f2fd9d6d66"
      },
      "execution_count": 19,
      "outputs": [
        {
          "output_type": "stream",
          "name": "stdout",
          "text": [
            "Unnamed: 0      int64\n",
            "PIB           float64\n",
            "BRL           float64\n",
            "BRP           float64\n",
            "BRT           float64\n",
            "SLP           float64\n",
            "SPP           float64\n",
            "SPT           float64\n",
            "PRL           float64\n",
            "PRP           float64\n",
            "PRT           float64\n",
            "RJL           float64\n",
            "RJP           float64\n",
            "RJT           float64\n",
            "D1              int64\n",
            "D2              int64\n",
            "D3              int64\n",
            "D4              int64\n",
            "D5              int64\n",
            "D6              int64\n",
            "D7              int64\n",
            "D8              int64\n",
            "D9              int64\n",
            "D10             int64\n",
            "D11             int64\n",
            "PIBi1         float64\n",
            "PIBi2         float64\n",
            "PIBi3         float64\n",
            "PIBi4         float64\n",
            "PIBi5         float64\n",
            "PIBi6         float64\n",
            "PIBi7         float64\n",
            "PIBi8         float64\n",
            "PIBi9         float64\n",
            "PIBi10        float64\n",
            "PIBi11        float64\n",
            "PIBi12        float64\n",
            "Ano           float64\n",
            "Mes           float64\n",
            "dtype: object\n",
            "PIB           1.000000\n",
            "PIBi1         0.972464\n",
            "PIBi12        0.969757\n",
            "PIBi2         0.968982\n",
            "Unnamed: 0    0.957066\n",
            "Ano           0.955336\n",
            "PIBi3         0.954370\n",
            "PIBi11        0.952769\n",
            "PIBi10        0.951037\n",
            "SPT           0.951017\n",
            "BRP           0.945026\n",
            "RJP           0.942831\n",
            "SPP           0.940794\n",
            "PIBi9         0.940744\n",
            "PIBi4         0.936421\n",
            "PIBi5         0.934392\n",
            "PIBi8         0.929732\n",
            "PIBi7         0.927681\n",
            "BRT           0.923355\n",
            "PIBi6         0.920989\n",
            "RJT           0.916856\n",
            "SLP           0.912627\n",
            "RJL           0.898519\n",
            "BRL           0.875316\n",
            "PRP           0.839292\n",
            "PRT           0.825325\n",
            "PRL           0.733248\n",
            "Mes           0.104609\n",
            "D8            0.067080\n",
            "D10           0.054142\n",
            "D7            0.053221\n",
            "D5            0.034325\n",
            "D9            0.029151\n",
            "D6            0.022511\n",
            "D11           0.011132\n",
            "D3           -0.010753\n",
            "D4           -0.060057\n",
            "D1           -0.077787\n",
            "D2           -0.138529\n",
            "Name: PIB, dtype: float64\n"
          ]
        }
      ]
    },
    {
      "cell_type": "code",
      "source": [
        "## aplicando o modelo de MSE e comparando duas variaveis\n",
        "\n",
        "treino = df.iloc[0:126]\n",
        "teste = df.iloc[126:138]\n",
        "\n",
        "## Usando as variáveis 'PRL' e 'RJL'\n",
        "Y_treino = treino.iloc[:, [2]]\n",
        "X1 = ['PRL', 'RJL']\n",
        "X_treino1 = treino.loc[:, X1]\n",
        "mod1 = LinearRegression()\n",
        "mod1.fit(X_treino1, Y_treino)\n",
        "\n",
        "X_teste1 = teste.loc[:, X1]\n",
        "p1 = mod1.predict(X_teste1)\n",
        "mse1 = mean_squared_error(teste.PIB, p1)\n",
        "\n",
        "## Usando as variáveis 'SPT' e 'BRT'\n",
        "X2 = ['SPT', 'BRT']\n",
        "X_treino2 = treino.loc[:, X2]\n",
        "mod2 = LinearRegression()\n",
        "mod2.fit(X_treino2, Y_treino)\n",
        "\n",
        "X_teste2 = teste.loc[:, X2]\n",
        "p2 = mod2.predict(X_teste2)\n",
        "mse2 = mean_squared_error(teste.PIB, p2)\n",
        "\n",
        "print(\"MSE com as variáveis 'PRL' e 'RJL':\", mse1)\n",
        "print(\"MSE com as variáveis 'SPT' e 'BRT':\", mse2)\n",
        "\n",
        "## Verificando qual modelo teve o MSE menor\n",
        "if mse2 < mse1:\n",
        "    print(\"O modelo com as variáveis 'SPT' e 'BRT' teve uma redução no MSE.\")\n",
        "else:\n",
        "    print(\"O modelo com as variáveis 'PRL' e 'RJL' teve uma redução no MSE.\")\n",
        "\n",
        "\n",
        "## Acredito que essa combinação de variavies seja a que possui o menor mean squared error por conta das variaveis serem altamente correlacionadas ao PIB\n"
      ],
      "metadata": {
        "colab": {
          "base_uri": "https://localhost:8080/"
        },
        "id": "cYj4PPGZfkaU",
        "outputId": "cb41e892-8b56-48e6-9fed-35cd1f383a61"
      },
      "execution_count": 24,
      "outputs": [
        {
          "output_type": "stream",
          "name": "stdout",
          "text": [
            "MSE com as variáveis 'PRL' e 'RJL': 39.21124237550084\n",
            "MSE com as variáveis 'SPT' e 'BRT': 14.64831039802697\n",
            "O modelo com as variáveis 'SPT' e 'BRT' teve uma redução no MSE.\n"
          ]
        }
      ]
    },
    {
      "cell_type": "code",
      "source": [],
      "metadata": {
        "id": "pcGk2z9lfkc5"
      },
      "execution_count": null,
      "outputs": []
    },
    {
      "cell_type": "code",
      "source": [],
      "metadata": {
        "id": "G21KXYw5fkfa"
      },
      "execution_count": null,
      "outputs": []
    },
    {
      "cell_type": "code",
      "source": [],
      "metadata": {
        "id": "m9KiZmg_fkiE"
      },
      "execution_count": null,
      "outputs": []
    },
    {
      "cell_type": "code",
      "source": [],
      "metadata": {
        "id": "7vMgSgDWfkkv"
      },
      "execution_count": null,
      "outputs": []
    },
    {
      "cell_type": "code",
      "source": [],
      "metadata": {
        "id": "_4Tu7Qe6fknt"
      },
      "execution_count": null,
      "outputs": []
    },
    {
      "cell_type": "code",
      "source": [],
      "metadata": {
        "id": "NbhCcQlOfkqb"
      },
      "execution_count": null,
      "outputs": []
    },
    {
      "cell_type": "code",
      "source": [],
      "metadata": {
        "id": "Kqtrw22qfktX"
      },
      "execution_count": null,
      "outputs": []
    },
    {
      "cell_type": "code",
      "source": [],
      "metadata": {
        "id": "i7YP3dB6fkwF"
      },
      "execution_count": null,
      "outputs": []
    },
    {
      "cell_type": "code",
      "source": [],
      "metadata": {
        "id": "9Jnkmu6jfky7"
      },
      "execution_count": null,
      "outputs": []
    },
    {
      "cell_type": "code",
      "source": [],
      "metadata": {
        "id": "5UvEof84fk1v"
      },
      "execution_count": null,
      "outputs": []
    }
  ]
}